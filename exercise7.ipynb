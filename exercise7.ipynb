{
  "cells": [
    {
      "cell_type": "markdown",
      "metadata": {
        "id": "view-in-github",
        "colab_type": "text"
      },
      "source": [
        "<a href=\"https://colab.research.google.com/github/pillowcaseprsn/CCDATRCL_ASSIGNMENT_COM222/blob/main/exercise7.ipynb\" target=\"_parent\"><img src=\"https://colab.research.google.com/assets/colab-badge.svg\" alt=\"Open In Colab\"/></a>"
      ]
    },
    {
      "cell_type": "markdown",
      "metadata": {
        "id": "e3Ja3uozAJlw"
      },
      "source": [
        "# Exercise 7"
      ]
    },
    {
      "cell_type": "code",
      "execution_count": 1,
      "metadata": {
        "id": "IW6uTwU8AJly"
      },
      "outputs": [],
      "source": [
        "class Node:\n",
        "    def __init__(self, item):\n",
        "        self.left = None\n",
        "        self.right = None\n",
        "        self.val = item"
      ]
    },
    {
      "cell_type": "code",
      "execution_count": 2,
      "metadata": {
        "id": "uxVFuimIAJlz"
      },
      "outputs": [],
      "source": [
        "def evaluateExpressionTree(root):\n",
        "\n",
        "    # empty tree\n",
        "    if root is None:\n",
        "        return 0\n",
        "\n",
        "    # leaf node\n",
        "    if root.left is None and root.right is None:\n",
        "        return int(root.val)\n",
        "\n",
        "    # evaluate left tree\n",
        "    left_sum = evaluateExpressionTree(root.left)\n",
        "\n",
        "    # evaluate right tree\n",
        "    right_sum = evaluateExpressionTree(root.right)\n",
        "\n",
        "    # check which operation to apply\n",
        "    if root.val == '+':\n",
        "        return left_sum + right_sum\n",
        "\n",
        "    elif root.val == '-':\n",
        "        return left_sum - right_sum\n",
        "\n",
        "    elif root.val == '*':\n",
        "        return left_sum * right_sum\n",
        "\n",
        "    else:\n",
        "        return left_sum // right_sum"
      ]
    },
    {
      "cell_type": "code",
      "execution_count": 3,
      "metadata": {
        "id": "-xWZXA-mAJl0"
      },
      "outputs": [],
      "source": [
        "def inorder(root):\n",
        "\n",
        "    if root:\n",
        "        # Traverse left\n",
        "        inorder(root.left)\n",
        "        # Traverse root\n",
        "        print(str(root.val) + \"->\", end='')\n",
        "        # Traverse right\n",
        "        inorder(root.right)"
      ]
    },
    {
      "cell_type": "markdown",
      "metadata": {
        "id": "CVtqxh5DAJl1"
      },
      "source": [
        "#### 1. Construct a binary expression tree\n",
        "\n",
        "$ (8 + 4) * (7 - 9) $"
      ]
    },
    {
      "cell_type": "code",
      "execution_count": 4,
      "metadata": {
        "id": "CxpP0zcVAJl1"
      },
      "outputs": [],
      "source": [
        "# NODES\n",
        "root = Node(\"*\")\n",
        "node1 = Node(\"+\")\n",
        "node2 = Node(\"-\")\n",
        "node3 = Node(\"8\")\n",
        "node4 = Node(\"4\")\n",
        "node5 = Node(\"7\")\n",
        "node6 = Node(\"9\")\n",
        "\n",
        "root.left = node1\n",
        "root.right = node2\n",
        "root.left.left = node3\n",
        "root.left.right = node4\n",
        "root.right.left = node5\n",
        "root.right.right = node6"
      ]
    },
    {
      "cell_type": "code",
      "source": [
        "# EVAL\n",
        "evaluateExpressionTree(root)"
      ],
      "metadata": {
        "id": "4teSJe7uE8QY",
        "outputId": "5e6ebbff-1aac-43b4-b674-5311c4a40e17",
        "colab": {
          "base_uri": "https://localhost:8080/"
        }
      },
      "execution_count": 5,
      "outputs": [
        {
          "output_type": "execute_result",
          "data": {
            "text/plain": [
              "-24"
            ]
          },
          "metadata": {},
          "execution_count": 5
        }
      ]
    },
    {
      "cell_type": "code",
      "source": [
        "inorder(root)"
      ],
      "metadata": {
        "id": "aYmQOSETFLR3",
        "outputId": "074a7d4e-44ba-4c3c-cc1b-43bc76a7d578",
        "colab": {
          "base_uri": "https://localhost:8080/"
        }
      },
      "execution_count": 6,
      "outputs": [
        {
          "output_type": "stream",
          "name": "stdout",
          "text": [
            "8->+->4->*->7->-->9->"
          ]
        }
      ]
    },
    {
      "cell_type": "markdown",
      "metadata": {
        "id": "jc5KHLk6AJl2"
      },
      "source": [
        "#### 2. Construct a binary expression tree\n",
        "\n",
        "$ 5 / 8 + 3 - 6 * 1 $"
      ]
    },
    {
      "cell_type": "code",
      "execution_count": 7,
      "metadata": {
        "id": "XORzqkC3AJl2"
      },
      "outputs": [],
      "source": [
        "# NODES\n",
        "\n",
        "roota = Node(\"-\")\n",
        "node1a = Node(\"+\")\n",
        "node2a = Node(\"*\")\n",
        "node3a = Node(\"/\")\n",
        "node4a = Node(\"3\")\n",
        "node5a = Node(\"6\")\n",
        "node6a = Node(\"1\")\n",
        "node7a = Node(\"5\")\n",
        "node8a = Node(\"8\")\n",
        "\n",
        "roota.left = node1a\n",
        "roota.right = node2a\n",
        "roota.left.left = node3a\n",
        "roota.left.right = node4a\n",
        "roota.right.left = node5a\n",
        "roota.right.right = node6a\n",
        "roota.left.left.left = node7a\n",
        "roota.left.left.right = node8a"
      ]
    },
    {
      "cell_type": "code",
      "source": [
        "evaluateExpressionTree(roota)"
      ],
      "metadata": {
        "id": "Z6DVT0BBHCOr",
        "outputId": "051e92d5-000b-4597-81da-a459cb66c5b4",
        "colab": {
          "base_uri": "https://localhost:8080/"
        }
      },
      "execution_count": 12,
      "outputs": [
        {
          "output_type": "execute_result",
          "data": {
            "text/plain": [
              "-3"
            ]
          },
          "metadata": {},
          "execution_count": 12
        }
      ]
    },
    {
      "cell_type": "code",
      "source": [
        "inorder(roota)"
      ],
      "metadata": {
        "id": "b-Nz2WdpHzjR",
        "outputId": "80f37e87-7e4d-422d-e060-81d7523efd57",
        "colab": {
          "base_uri": "https://localhost:8080/"
        }
      },
      "execution_count": 13,
      "outputs": [
        {
          "output_type": "stream",
          "name": "stdout",
          "text": [
            "5->/->8->+->3->-->6->*->1->"
          ]
        }
      ]
    },
    {
      "cell_type": "markdown",
      "metadata": {
        "id": "tu3n5ZdWAJl2"
      },
      "source": [
        "#### 3. Construct a binary expression tree\n",
        "\n",
        "$ ((2 + 5) / 3)- (3 + 8) $"
      ]
    },
    {
      "cell_type": "code",
      "execution_count": 14,
      "metadata": {
        "id": "5GvZBxgtAJl3"
      },
      "outputs": [],
      "source": [
        "# NODES\n",
        "rootb = Node(\"-\")\n",
        "node1b = Node(\"/\")\n",
        "node2b = Node(\"+\")\n",
        "node3b = Node(\"+\")\n",
        "node4b = Node(\"3\")\n",
        "node5b = Node(\"3\")\n",
        "node6b = Node(\"8\")\n",
        "node7b = Node(\"2\")\n",
        "node8b = Node(\"5\")\n",
        "\n",
        "rootb.left = node1b\n",
        "rootb.right = node2b\n",
        "rootb.left.left = node3b\n",
        "rootb.left.right = node4b\n",
        "rootb.right.left = node5b\n",
        "rootb.right.right = node6b\n",
        "rootb.left.left.left = node7b\n",
        "rootb.left.left.right = node8b"
      ]
    },
    {
      "cell_type": "code",
      "source": [
        "evaluateExpressionTree(rootb)"
      ],
      "metadata": {
        "id": "SyW2v4UtIlrH",
        "outputId": "3bb705b1-14b3-4275-9d3f-23d386d81464",
        "colab": {
          "base_uri": "https://localhost:8080/"
        }
      },
      "execution_count": 15,
      "outputs": [
        {
          "output_type": "execute_result",
          "data": {
            "text/plain": [
              "-9"
            ]
          },
          "metadata": {},
          "execution_count": 15
        }
      ]
    },
    {
      "cell_type": "code",
      "source": [
        "inorder(rootb)"
      ],
      "metadata": {
        "id": "AICqO_YrIpSX",
        "outputId": "5aa822d4-7411-4696-951f-667ca6b2a9d3",
        "colab": {
          "base_uri": "https://localhost:8080/"
        }
      },
      "execution_count": 16,
      "outputs": [
        {
          "output_type": "stream",
          "name": "stdout",
          "text": [
            "2->+->5->/->3->-->3->+->8->"
          ]
        }
      ]
    }
  ],
  "metadata": {
    "kernelspec": {
      "display_name": "Python 3",
      "language": "python",
      "name": "python3"
    },
    "language_info": {
      "codemirror_mode": {
        "name": "ipython",
        "version": 3
      },
      "file_extension": ".py",
      "mimetype": "text/x-python",
      "name": "python",
      "nbconvert_exporter": "python",
      "pygments_lexer": "ipython3",
      "version": "3.11.4"
    },
    "orig_nbformat": 4,
    "colab": {
      "provenance": [],
      "include_colab_link": true
    }
  },
  "nbformat": 4,
  "nbformat_minor": 0
}