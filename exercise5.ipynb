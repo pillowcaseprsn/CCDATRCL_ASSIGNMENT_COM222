{
  "cells": [
    {
      "cell_type": "markdown",
      "metadata": {
        "id": "HRLIaDChjB0X"
      },
      "source": [
        "# Exercise 5"
      ]
    },
    {
      "cell_type": "markdown",
      "metadata": {
        "id": "DQiSA7gfjB0n"
      },
      "source": [
        "#### 1. Create a dictionary of your 10 favorite songs."
      ]
    },
    {
      "cell_type": "markdown",
      "metadata": {
        "id": "GX_-Y92AjB0p"
      },
      "source": [
        "Example:\n",
        "\n",
        "|KEY|VALUE|\n",
        "|---|---|\n",
        "|001|My Love|\n",
        "|002|Like a rose|"
      ]
    },
    {
      "cell_type": "code",
      "execution_count": 8,
      "metadata": {
        "id": "8M6T8lNZjB0r",
        "outputId": "01448f26-cb01-4a16-9d72-4c4b1f5fe32a",
        "colab": {
          "base_uri": "https://localhost:8080/"
        }
      },
      "outputs": [
        {
          "output_type": "stream",
          "name": "stdout",
          "text": [
            "{'001': 'Writing on the Wall', '002': 'Idol', '003': 'Fly Me To The Moon', '004': 'Moonlight', '005': 'Bejeweled', '006': 'Saltitio Favillae', '007': 'Fever', '008': 'Dancing in My Room', '009': 'LOST IN PARADISE', '010': 'Polumnia Omnia'}\n"
          ]
        }
      ],
      "source": [
        "# songs\n",
        "\n",
        "mydictionary = {\n",
        "    \"001\": \"Writing on the Wall\", #Alternative Indie\n",
        "    \"002\": \"Idol\",                #Jpop\n",
        "    \"003\": \"Fly Me To The Moon\",  #Jazz\n",
        "    \"004\": \"Moonlight\",           #Pop\n",
        "    \"005\": \"Bejeweled\",           #Pop\n",
        "    \"006\": \"Saltitio Favillae\",   #Opera\n",
        "    \"007\": \"Fever\",               #Jazz\n",
        "    \"008\": \"Dancing in My Room\",  #Alternative Indie\n",
        "    \"009\": \"LOST IN PARADISE\",    #JPop\n",
        "    \"010\": \"Polumnia Omnia\"       #Opera\n",
        "}\n",
        "print(mydictionary)"
      ]
    },
    {
      "cell_type": "code",
      "source": [
        "# applying mydictionary constructor\n",
        "\n",
        "mydictionary = dict(id001 = \"Writing on the Wall\", id002 = \"Idol\", id003 = \"Fly Me To The Moon\", id004 = \"Moonlight\", id005 = \"Bejeweled\", id006 = \"Saltitio Favillae\", id007 = \"Fever\", id008 = \"Dancing in My Room\", id009 = \"LOST IN PARADISE\", id010 = \"Polumnia Omnia\")\n",
        "print(mydictionary)"
      ],
      "metadata": {
        "id": "iillSIFLmlHF",
        "outputId": "41736f4c-e073-42a2-93aa-c295d2287d42",
        "colab": {
          "base_uri": "https://localhost:8080/"
        }
      },
      "execution_count": 9,
      "outputs": [
        {
          "output_type": "stream",
          "name": "stdout",
          "text": [
            "{'id001': 'Writing on the Wall', 'id002': 'Idol', 'id003': 'Fly Me To The Moon', 'id004': 'Moonlight', 'id005': 'Bejeweled', 'id006': 'Saltitio Favillae', 'id007': 'Fever', 'id008': 'Dancing in My Room', 'id009': 'LOST IN PARADISE', 'id010': 'Polumnia Omnia'}\n"
          ]
        }
      ]
    },
    {
      "cell_type": "markdown",
      "metadata": {
        "id": "ja4MrlSojB0w"
      },
      "source": [
        "#### 2. Loop through the dictionary by its **key** and **value**"
      ]
    },
    {
      "cell_type": "code",
      "execution_count": 10,
      "metadata": {
        "id": "gt_f9mTLjB0y",
        "outputId": "d7d30deb-651d-4bd2-cca0-164857e20eb6",
        "colab": {
          "base_uri": "https://localhost:8080/"
        }
      },
      "outputs": [
        {
          "output_type": "execute_result",
          "data": {
            "text/plain": [
              "dict_keys(['id001', 'id002', 'id003', 'id004', 'id005', 'id006', 'id007', 'id008', 'id009', 'id010'])"
            ]
          },
          "metadata": {},
          "execution_count": 10
        }
      ],
      "source": [
        "# k\n",
        "x = mydictionary.keys()\n",
        "x"
      ]
    },
    {
      "cell_type": "code",
      "source": [
        "from re import M\n",
        "for x, y in mydictionary.items():\n",
        "  print (x,y)"
      ],
      "metadata": {
        "id": "KJyTyl1stg6W",
        "outputId": "2d3230a8-7736-4875-d0b2-563caf0fe76c",
        "colab": {
          "base_uri": "https://localhost:8080/"
        }
      },
      "execution_count": 11,
      "outputs": [
        {
          "output_type": "stream",
          "name": "stdout",
          "text": [
            "id001 Writing on the Wall\n",
            "id002 Idol\n",
            "id003 Fly Me To The Moon\n",
            "id004 Moonlight\n",
            "id005 Bejeweled\n",
            "id006 Saltitio Favillae\n",
            "id007 Fever\n",
            "id008 Dancing in My Room\n",
            "id009 LOST IN PARADISE\n",
            "id010 Polumnia Omnia\n"
          ]
        }
      ]
    },
    {
      "cell_type": "markdown",
      "metadata": {
        "id": "7bz_7tOrjB0z"
      },
      "source": [
        "#### 3. Add one additional song"
      ]
    },
    {
      "cell_type": "code",
      "execution_count": 12,
      "metadata": {
        "id": "a-RpnJckjB01",
        "outputId": "70c5f55e-3b06-49a7-daf9-c53261bf2de1",
        "colab": {
          "base_uri": "https://localhost:8080/"
        }
      },
      "outputs": [
        {
          "output_type": "execute_result",
          "data": {
            "text/plain": [
              "{'id001': 'Writing on the Wall',\n",
              " 'id002': 'Idol',\n",
              " 'id003': 'Fly Me To The Moon',\n",
              " 'id004': 'Moonlight',\n",
              " 'id005': 'Bejeweled',\n",
              " 'id006': 'Saltitio Favillae',\n",
              " 'id007': 'Fever',\n",
              " 'id008': 'Dancing in My Room',\n",
              " 'id009': 'LOST IN PARADISE',\n",
              " 'id010': 'Polumnia Omnia',\n",
              " 'id011': \"I'm Just Ken\"}"
            ]
          },
          "metadata": {},
          "execution_count": 12
        }
      ],
      "source": [
        "# adding ken's song\n",
        "\n",
        "mydictionary.update({\"id011\": \"I'm Just Ken\"})\n",
        "mydictionary"
      ]
    },
    {
      "cell_type": "markdown",
      "metadata": {
        "id": "1CiXhr2ajB02"
      },
      "source": [
        "#### 4. Remove one song"
      ]
    },
    {
      "cell_type": "code",
      "execution_count": 13,
      "metadata": {
        "id": "Qm0RzvWXjB04",
        "outputId": "2071a53d-e9fa-4515-9153-70e7a5d74884",
        "colab": {
          "base_uri": "https://localhost:8080/"
        }
      },
      "outputs": [
        {
          "output_type": "execute_result",
          "data": {
            "text/plain": [
              "{'id001': 'Writing on the Wall',\n",
              " 'id002': 'Idol',\n",
              " 'id003': 'Fly Me To The Moon',\n",
              " 'id004': 'Moonlight',\n",
              " 'id005': 'Bejeweled',\n",
              " 'id006': 'Saltitio Favillae',\n",
              " 'id007': 'Fever',\n",
              " 'id008': 'Dancing in My Room',\n",
              " 'id009': 'LOST IN PARADISE',\n",
              " 'id010': 'Polumnia Omnia'}"
            ]
          },
          "metadata": {},
          "execution_count": 13
        }
      ],
      "source": [
        "# im sorry ken\n",
        "mydictionary.pop(\"id011\")\n",
        "mydictionary"
      ]
    },
    {
      "cell_type": "markdown",
      "metadata": {
        "id": "BPZarXrRjB05"
      },
      "source": [
        "#### 5. Create a nested dictionary of your 10 favorite songs with 5 genres. Display all of the items of the nested dictionary\n",
        "\n",
        "- Each nested dictionary's key should be the genre of the song\n",
        "- Put each song in their respective genre"
      ]
    },
    {
      "cell_type": "markdown",
      "metadata": {
        "id": "Vs5UuMtvjB06"
      },
      "source": [
        "Example:\n",
        "\n",
        "\n",
        "|KEY|VALUE|\n",
        "|---|---|\n",
        "|Pop|{001, Baby}|\n",
        "|Rock|{001, Enter Sandman}|"
      ]
    },
    {
      "cell_type": "code",
      "execution_count": 15,
      "metadata": {
        "id": "xGB7yIT2jB06",
        "outputId": "21230639-03b7-441f-e89c-ca05690db989",
        "colab": {
          "base_uri": "https://localhost:8080/"
        }
      },
      "outputs": [
        {
          "output_type": "execute_result",
          "data": {
            "text/plain": [
              "{'Indie': {'001': 'Writing on the Wall', '002': 'Dancing in My Room'},\n",
              " 'J-Pop': {'001': 'Idol', '002': 'LOST IN PARADISE'},\n",
              " 'Jazz': {'001': 'Fly Me To The Moon', '002': 'Fever'},\n",
              " 'Opera': {'001': 'Saltitio Favillae', '002': 'Polumnia Omnia'},\n",
              " 'Pop': {'001': 'Moonlight', '002': 'Bejeweled'}}"
            ]
          },
          "metadata": {},
          "execution_count": 15
        }
      ],
      "source": [
        "# genres: alternative indie, pop, jazz, opera, jpop\n",
        "\n",
        "mydictionary = {\n",
        "    \"Indie\" : {\n",
        "        \"001\": \"Writing on the Wall\",\n",
        "        \"002\": \"Dancing in My Room\"\n",
        "    },\n",
        "    \"J-Pop\": {\n",
        "        \"001\": \"Idol\",\n",
        "        \"002\": \"LOST IN PARADISE\"\n",
        "    },\n",
        "    \"Jazz\" : {\n",
        "        \"001\": \"Fly Me To The Moon\",\n",
        "        \"002\": \"Fever\"\n",
        "    },\n",
        "    \"Opera\" : {\n",
        "        \"001\": \"Saltitio Favillae\",\n",
        "        \"002\": \"Polumnia Omnia\"\n",
        "    },\n",
        "    \"Pop\" : {\n",
        "        \"001\": \"Moonlight\",\n",
        "        \"002\": \"Bejeweled\"\n",
        "    }\n",
        "}\n",
        "\n",
        "mydictionary"
      ]
    },
    {
      "cell_type": "markdown",
      "metadata": {
        "id": "YH3FhywrjB08"
      },
      "source": [
        "#### 6. Print the first song of the first genre"
      ]
    },
    {
      "cell_type": "code",
      "execution_count": 16,
      "metadata": {
        "id": "PN7YROT2jB08",
        "outputId": "226032b3-7731-4b21-baff-9a8d7cc61f1e",
        "colab": {
          "base_uri": "https://localhost:8080/"
        }
      },
      "outputs": [
        {
          "output_type": "stream",
          "name": "stdout",
          "text": [
            "Writing on the Wall\n"
          ]
        }
      ],
      "source": [
        "print(mydictionary[\"Indie\"][\"001\"])"
      ]
    },
    {
      "cell_type": "markdown",
      "metadata": {
        "id": "Lu2-w7-ZjB09"
      },
      "source": [
        "#### 7. Print the first song of the last genre"
      ]
    },
    {
      "cell_type": "code",
      "execution_count": 17,
      "metadata": {
        "id": "uFUCdMW0jB0-",
        "outputId": "ed7e934a-526f-4064-ac28-11b13722479e",
        "colab": {
          "base_uri": "https://localhost:8080/"
        }
      },
      "outputs": [
        {
          "output_type": "stream",
          "name": "stdout",
          "text": [
            "Moonlight\n"
          ]
        }
      ],
      "source": [
        "print(mydictionary[\"Pop\"][\"001\"])"
      ]
    }
  ],
  "metadata": {
    "kernelspec": {
      "display_name": "Python 3",
      "language": "python",
      "name": "python3"
    },
    "language_info": {
      "codemirror_mode": {
        "name": "ipython",
        "version": 3
      },
      "file_extension": ".py",
      "mimetype": "text/x-python",
      "name": "python",
      "nbconvert_exporter": "python",
      "pygments_lexer": "ipython3",
      "version": "3.11.4"
    },
    "orig_nbformat": 4,
    "colab": {
      "provenance": []
    }
  },
  "nbformat": 4,
  "nbformat_minor": 0
}